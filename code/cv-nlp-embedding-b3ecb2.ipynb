{
 "cells": [
  {
   "cell_type": "code",
   "execution_count": 1,
   "metadata": {
    "execution": {
     "iopub.execute_input": "2025-05-03T15:55:46.748371Z",
     "iopub.status.busy": "2025-05-03T15:55:46.748185Z",
     "iopub.status.idle": "2025-05-03T15:55:48.581812Z",
     "shell.execute_reply": "2025-05-03T15:55:48.580714Z",
     "shell.execute_reply.started": "2025-05-03T15:55:46.748353Z"
    },
    "trusted": true
   },
   "outputs": [
    {
     "data": {
      "text/html": [
       "<div>\n",
       "<style scoped>\n",
       "    .dataframe tbody tr th:only-of-type {\n",
       "        vertical-align: middle;\n",
       "    }\n",
       "\n",
       "    .dataframe tbody tr th {\n",
       "        vertical-align: top;\n",
       "    }\n",
       "\n",
       "    .dataframe thead th {\n",
       "        text-align: right;\n",
       "    }\n",
       "</style>\n",
       "<table border=\"1\" class=\"dataframe\">\n",
       "  <thead>\n",
       "    <tr style=\"text-align: right;\">\n",
       "      <th></th>\n",
       "      <th>Category</th>\n",
       "      <th>Text</th>\n",
       "      <th>Processed_Text</th>\n",
       "    </tr>\n",
       "  </thead>\n",
       "  <tbody>\n",
       "    <tr>\n",
       "      <th>0</th>\n",
       "      <td>-net-developer</td>\n",
       "      <td>Contact [email protected] +61 412 345 678 Skil...</td>\n",
       "      <td>61 412 345 678 skill c net framework aspnet sq...</td>\n",
       "    </tr>\n",
       "    <tr>\n",
       "      <th>1</th>\n",
       "      <td>-net-developer</td>\n",
       "      <td>Contact [email protected] +55 (11) 98765-4321 ...</td>\n",
       "      <td>55 11 987654321 skill c net framework aspnet c...</td>\n",
       "    </tr>\n",
       "    <tr>\n",
       "      <th>2</th>\n",
       "      <td>-net-developer</td>\n",
       "      <td>Contact [email protected] +39 02 1234 5678 Ski...</td>\n",
       "      <td>39 02 1234 5678 skill c net framework aspnet s...</td>\n",
       "    </tr>\n",
       "    <tr>\n",
       "      <th>3</th>\n",
       "      <td>-net-web-developer</td>\n",
       "      <td>Contact [email protected] +55 11 91234-5678 Sk...</td>\n",
       "      <td>55 11 912345678 skill aspnet c mvc agile metho...</td>\n",
       "    </tr>\n",
       "    <tr>\n",
       "      <th>4</th>\n",
       "      <td>-net-web-developer</td>\n",
       "      <td>Contact [email protected] +81 90-1234-5678 Ski...</td>\n",
       "      <td>81 9012345678 skill c net aspnet mvc sql serve...</td>\n",
       "    </tr>\n",
       "  </tbody>\n",
       "</table>\n",
       "</div>"
      ],
      "text/plain": [
       "             Category                                               Text  \\\n",
       "0      -net-developer  Contact [email protected] +61 412 345 678 Skil...   \n",
       "1      -net-developer  Contact [email protected] +55 (11) 98765-4321 ...   \n",
       "2      -net-developer  Contact [email protected] +39 02 1234 5678 Ski...   \n",
       "3  -net-web-developer  Contact [email protected] +55 11 91234-5678 Sk...   \n",
       "4  -net-web-developer  Contact [email protected] +81 90-1234-5678 Ski...   \n",
       "\n",
       "                                      Processed_Text  \n",
       "0  61 412 345 678 skill c net framework aspnet sq...  \n",
       "1  55 11 987654321 skill c net framework aspnet c...  \n",
       "2  39 02 1234 5678 skill c net framework aspnet s...  \n",
       "3  55 11 912345678 skill aspnet c mvc agile metho...  \n",
       "4  81 9012345678 skill c net aspnet mvc sql serve...  "
      ]
     },
     "execution_count": 1,
     "metadata": {},
     "output_type": "execute_result"
    }
   ],
   "source": [
    "# import pandas as pd\n",
    "\n",
    "# df = pd.read_csv('/kaggle/input/data-cleaned/preprocessed_cv_text_data.csv')\n",
    "# df.head()"
   ]
  },
  {
   "cell_type": "markdown",
   "metadata": {},
   "source": [
    "## RAG"
   ]
  },
  {
   "cell_type": "code",
   "execution_count": 38,
   "metadata": {
    "execution": {
     "iopub.execute_input": "2025-05-03T16:37:39.870389Z",
     "iopub.status.busy": "2025-05-03T16:37:39.870081Z",
     "iopub.status.idle": "2025-05-03T16:37:40.710650Z",
     "shell.execute_reply": "2025-05-03T16:37:40.709823Z",
     "shell.execute_reply.started": "2025-05-03T16:37:39.870366Z"
    },
    "trusted": true
   },
   "outputs": [
    {
     "data": {
      "text/html": [
       "<div>\n",
       "<style scoped>\n",
       "    .dataframe tbody tr th:only-of-type {\n",
       "        vertical-align: middle;\n",
       "    }\n",
       "\n",
       "    .dataframe tbody tr th {\n",
       "        vertical-align: top;\n",
       "    }\n",
       "\n",
       "    .dataframe thead th {\n",
       "        text-align: right;\n",
       "    }\n",
       "</style>\n",
       "<table border=\"1\" class=\"dataframe\">\n",
       "  <thead>\n",
       "    <tr style=\"text-align: right;\">\n",
       "      <th></th>\n",
       "      <th>Category</th>\n",
       "      <th>Text</th>\n",
       "      <th>Processed_Text</th>\n",
       "      <th>Combined_Text</th>\n",
       "    </tr>\n",
       "  </thead>\n",
       "  <tbody>\n",
       "    <tr>\n",
       "      <th>0</th>\n",
       "      <td>-net-developer</td>\n",
       "      <td>Contact [email protected] +61 412 345 678 Skil...</td>\n",
       "      <td>61 412 345 678 skill c net framework aspnet sq...</td>\n",
       "      <td>net developer skill c net framework aspnet sql...</td>\n",
       "    </tr>\n",
       "    <tr>\n",
       "      <th>1</th>\n",
       "      <td>-net-developer</td>\n",
       "      <td>Contact [email protected] +55 (11) 98765-4321 ...</td>\n",
       "      <td>55 11 987654321 skill c net framework aspnet c...</td>\n",
       "      <td>net developer skill c net framework aspnet cor...</td>\n",
       "    </tr>\n",
       "    <tr>\n",
       "      <th>2</th>\n",
       "      <td>-net-developer</td>\n",
       "      <td>Contact [email protected] +39 02 1234 5678 Ski...</td>\n",
       "      <td>39 02 1234 5678 skill c net framework aspnet s...</td>\n",
       "      <td>net developer skill c net framework aspnet sql...</td>\n",
       "    </tr>\n",
       "    <tr>\n",
       "      <th>3</th>\n",
       "      <td>-net-web-developer</td>\n",
       "      <td>Contact [email protected] +55 11 91234-5678 Sk...</td>\n",
       "      <td>55 11 912345678 skill aspnet c mvc agile metho...</td>\n",
       "      <td>net web developer skill aspnet c mvc agile met...</td>\n",
       "    </tr>\n",
       "    <tr>\n",
       "      <th>4</th>\n",
       "      <td>-net-web-developer</td>\n",
       "      <td>Contact [email protected] +81 90-1234-5678 Ski...</td>\n",
       "      <td>81 9012345678 skill c net aspnet mvc sql serve...</td>\n",
       "      <td>net web developer skill c net aspnet mvc sql s...</td>\n",
       "    </tr>\n",
       "  </tbody>\n",
       "</table>\n",
       "</div>"
      ],
      "text/plain": [
       "             Category                                               Text  \\\n",
       "0      -net-developer  Contact [email protected] +61 412 345 678 Skil...   \n",
       "1      -net-developer  Contact [email protected] +55 (11) 98765-4321 ...   \n",
       "2      -net-developer  Contact [email protected] +39 02 1234 5678 Ski...   \n",
       "3  -net-web-developer  Contact [email protected] +55 11 91234-5678 Sk...   \n",
       "4  -net-web-developer  Contact [email protected] +81 90-1234-5678 Ski...   \n",
       "\n",
       "                                      Processed_Text  \\\n",
       "0  61 412 345 678 skill c net framework aspnet sq...   \n",
       "1  55 11 987654321 skill c net framework aspnet c...   \n",
       "2  39 02 1234 5678 skill c net framework aspnet s...   \n",
       "3  55 11 912345678 skill aspnet c mvc agile metho...   \n",
       "4  81 9012345678 skill c net aspnet mvc sql serve...   \n",
       "\n",
       "                                       Combined_Text  \n",
       "0  net developer skill c net framework aspnet sql...  \n",
       "1  net developer skill c net framework aspnet cor...  \n",
       "2  net developer skill c net framework aspnet sql...  \n",
       "3  net web developer skill aspnet c mvc agile met...  \n",
       "4  net web developer skill c net aspnet mvc sql s...  "
      ]
     },
     "execution_count": 38,
     "metadata": {},
     "output_type": "execute_result"
    }
   ],
   "source": [
    "import pandas as pd\n",
    "import re\n",
    "# file_path = \"/kaggle/input/data-preprocess/combined_text.csv\"\n",
    "def remove_first_number_group(text):\n",
    "    # Match either:\n",
    "    # 1. A group of 2–5 space-separated digit blocks\n",
    "    # 2. OR a single long number (8+ digits)\n",
    "    match = re.search(r'((\\d+\\s+){1,4}\\d+|\\d{8,})', text)\n",
    "    if match:\n",
    "        return text[:match.start()].rstrip() + ' ' + text[match.end():].lstrip()\n",
    "    return text\n",
    "\n",
    "file_path = '/kaggle/input/data-cleaned/preprocessed_cv_text_data.csv'\n",
    "df = pd.read_csv(file_path)\n",
    "df['Combined_Text'] = df['Category'] + \" \" + df['Processed_Text']\n",
    "df['Combined_Text'] = df['Combined_Text'].str.replace('-', ' ', regex=True)\n",
    "df['Combined_Text'] = df['Combined_Text'].str.replace(r'\\s+', ' ', regex=True).str.strip()\n",
    "df['Combined_Text'] = df['Combined_Text'].apply(remove_first_number_group)\n",
    "df.head()"
   ]
  },
  {
   "cell_type": "code",
   "execution_count": 39,
   "metadata": {
    "execution": {
     "iopub.execute_input": "2025-05-03T16:37:46.162212Z",
     "iopub.status.busy": "2025-05-03T16:37:46.161924Z",
     "iopub.status.idle": "2025-05-03T16:37:46.563194Z",
     "shell.execute_reply": "2025-05-03T16:37:46.562488Z",
     "shell.execute_reply.started": "2025-05-03T16:37:46.162190Z"
    },
    "trusted": true
   },
   "outputs": [
    {
     "data": {
      "text/html": [
       "<div>\n",
       "<style scoped>\n",
       "    .dataframe tbody tr th:only-of-type {\n",
       "        vertical-align: middle;\n",
       "    }\n",
       "\n",
       "    .dataframe tbody tr th {\n",
       "        vertical-align: top;\n",
       "    }\n",
       "\n",
       "    .dataframe thead th {\n",
       "        text-align: right;\n",
       "    }\n",
       "</style>\n",
       "<table border=\"1\" class=\"dataframe\">\n",
       "  <thead>\n",
       "    <tr style=\"text-align: right;\">\n",
       "      <th></th>\n",
       "      <th>cv_id</th>\n",
       "      <th>chunk_id</th>\n",
       "      <th>text</th>\n",
       "    </tr>\n",
       "  </thead>\n",
       "  <tbody>\n",
       "    <tr>\n",
       "      <th>0</th>\n",
       "      <td>0</td>\n",
       "      <td>0</td>\n",
       "      <td>net developer skill c net framework aspnet sql...</td>\n",
       "    </tr>\n",
       "    <tr>\n",
       "      <th>1</th>\n",
       "      <td>0</td>\n",
       "      <td>1</td>\n",
       "      <td>017 feb 2021 contributed development ecommerce...</td>\n",
       "    </tr>\n",
       "    <tr>\n",
       "      <th>2</th>\n",
       "      <td>1</td>\n",
       "      <td>0</td>\n",
       "      <td>net developer skill c net framework aspnet cor...</td>\n",
       "    </tr>\n",
       "    <tr>\n",
       "      <th>3</th>\n",
       "      <td>1</td>\n",
       "      <td>1</td>\n",
       "      <td>021 assisted development internal application ...</td>\n",
       "    </tr>\n",
       "    <tr>\n",
       "      <th>4</th>\n",
       "      <td>2</td>\n",
       "      <td>0</td>\n",
       "      <td>net developer skill c net framework aspnet sql...</td>\n",
       "    </tr>\n",
       "  </tbody>\n",
       "</table>\n",
       "</div>"
      ],
      "text/plain": [
       "   cv_id  chunk_id                                               text\n",
       "0      0         0  net developer skill c net framework aspnet sql...\n",
       "1      0         1  017 feb 2021 contributed development ecommerce...\n",
       "2      1         0  net developer skill c net framework aspnet cor...\n",
       "3      1         1  021 assisted development internal application ...\n",
       "4      2         0  net developer skill c net framework aspnet sql..."
      ]
     },
     "execution_count": 39,
     "metadata": {},
     "output_type": "execute_result"
    }
   ],
   "source": [
    "def chunk_text(text, max_length=1000, overlap=200):\n",
    "\n",
    "    chunks = []\n",
    "    start = 0\n",
    "    while start < len(text):\n",
    "        end = start + max_length\n",
    "        chunks.append(text[start:end])\n",
    "        start += max_length - overlap  \n",
    "    return chunks\n",
    "\n",
    "all_chunks = []\n",
    "\n",
    "for idx, row in df.iterrows():\n",
    "    chunks = chunk_text(row['Combined_Text'])\n",
    "    for i, chunk in enumerate(chunks):\n",
    "        all_chunks.append({\n",
    "            'cv_id': idx,\n",
    "            'chunk_id': i,\n",
    "            'text': chunk\n",
    "        })\n",
    "\n",
    "# Tạo DataFrame chứa các chunk\n",
    "chunk_df = pd.DataFrame(all_chunks)\n",
    "chunk_df.head()"
   ]
  },
  {
   "cell_type": "code",
   "execution_count": 3,
   "metadata": {
    "execution": {
     "iopub.execute_input": "2025-05-03T16:12:39.325136Z",
     "iopub.status.busy": "2025-05-03T16:12:39.324744Z",
     "iopub.status.idle": "2025-05-03T16:12:41.037160Z",
     "shell.execute_reply": "2025-05-03T16:12:41.036148Z",
     "shell.execute_reply.started": "2025-05-03T16:12:39.325099Z"
    },
    "trusted": true
   },
   "outputs": [
    {
     "data": {
      "text/plain": [
       "Document(metadata={'cv_id': Ellipsis, 'chunk_id': Ellipsis}, page_content='represent_text: ...')"
      ]
     },
     "execution_count": 3,
     "metadata": {},
     "output_type": "execute_result"
    }
   ],
   "source": [
    "from langchain.schema import Document\n",
    "Document(page_content=\"represent_text: ...\", metadata={\"cv_id\": ..., \"chunk_id\": ...})"
   ]
  },
  {
   "cell_type": "code",
   "execution_count": 4,
   "metadata": {
    "execution": {
     "iopub.execute_input": "2025-05-03T16:12:41.039097Z",
     "iopub.status.busy": "2025-05-03T16:12:41.038851Z",
     "iopub.status.idle": "2025-05-03T16:12:52.497476Z",
     "shell.execute_reply": "2025-05-03T16:12:52.496654Z",
     "shell.execute_reply.started": "2025-05-03T16:12:41.039075Z"
    },
    "trusted": true
   },
   "outputs": [
    {
     "name": "stdout",
     "output_type": "stream",
     "text": [
      "Collecting langchain-community\n",
      "  Downloading langchain_community-0.3.23-py3-none-any.whl.metadata (2.5 kB)\n",
      "Collecting langchain-core<1.0.0,>=0.3.56 (from langchain-community)\n",
      "  Downloading langchain_core-0.3.58-py3-none-any.whl.metadata (5.9 kB)\n",
      "Collecting langchain<1.0.0,>=0.3.24 (from langchain-community)\n",
      "  Downloading langchain-0.3.25-py3-none-any.whl.metadata (7.8 kB)\n",
      "Requirement already satisfied: SQLAlchemy<3,>=1.4 in /usr/local/lib/python3.10/dist-packages (from langchain-community) (2.0.36)\n",
      "Requirement already satisfied: requests<3,>=2 in /usr/local/lib/python3.10/dist-packages (from langchain-community) (2.32.3)\n",
      "Requirement already satisfied: PyYAML>=5.3 in /usr/local/lib/python3.10/dist-packages (from langchain-community) (6.0.2)\n",
      "Requirement already satisfied: aiohttp<4.0.0,>=3.8.3 in /usr/local/lib/python3.10/dist-packages (from langchain-community) (3.11.12)\n",
      "Requirement already satisfied: tenacity!=8.4.0,<10,>=8.1.0 in /usr/local/lib/python3.10/dist-packages (from langchain-community) (9.0.0)\n",
      "Requirement already satisfied: dataclasses-json<0.7,>=0.5.7 in /usr/local/lib/python3.10/dist-packages (from langchain-community) (0.6.7)\n",
      "Collecting pydantic-settings<3.0.0,>=2.4.0 (from langchain-community)\n",
      "  Downloading pydantic_settings-2.9.1-py3-none-any.whl.metadata (3.8 kB)\n",
      "Requirement already satisfied: langsmith<0.4,>=0.1.125 in /usr/local/lib/python3.10/dist-packages (from langchain-community) (0.2.3)\n",
      "Collecting httpx-sse<1.0.0,>=0.4.0 (from langchain-community)\n",
      "  Downloading httpx_sse-0.4.0-py3-none-any.whl.metadata (9.0 kB)\n",
      "Requirement already satisfied: numpy>=1.26.2 in /usr/local/lib/python3.10/dist-packages (from langchain-community) (1.26.4)\n",
      "Requirement already satisfied: aiohappyeyeballs>=2.3.0 in /usr/local/lib/python3.10/dist-packages (from aiohttp<4.0.0,>=3.8.3->langchain-community) (2.4.6)\n",
      "Requirement already satisfied: aiosignal>=1.1.2 in /usr/local/lib/python3.10/dist-packages (from aiohttp<4.0.0,>=3.8.3->langchain-community) (1.3.2)\n",
      "Requirement already satisfied: async-timeout<6.0,>=4.0 in /usr/local/lib/python3.10/dist-packages (from aiohttp<4.0.0,>=3.8.3->langchain-community) (5.0.1)\n",
      "Requirement already satisfied: attrs>=17.3.0 in /usr/local/lib/python3.10/dist-packages (from aiohttp<4.0.0,>=3.8.3->langchain-community) (25.1.0)\n",
      "Requirement already satisfied: frozenlist>=1.1.1 in /usr/local/lib/python3.10/dist-packages (from aiohttp<4.0.0,>=3.8.3->langchain-community) (1.5.0)\n",
      "Requirement already satisfied: multidict<7.0,>=4.5 in /usr/local/lib/python3.10/dist-packages (from aiohttp<4.0.0,>=3.8.3->langchain-community) (6.1.0)\n",
      "Requirement already satisfied: propcache>=0.2.0 in /usr/local/lib/python3.10/dist-packages (from aiohttp<4.0.0,>=3.8.3->langchain-community) (0.2.1)\n",
      "Requirement already satisfied: yarl<2.0,>=1.17.0 in /usr/local/lib/python3.10/dist-packages (from aiohttp<4.0.0,>=3.8.3->langchain-community) (1.18.3)\n",
      "Requirement already satisfied: marshmallow<4.0.0,>=3.18.0 in /usr/local/lib/python3.10/dist-packages (from dataclasses-json<0.7,>=0.5.7->langchain-community) (3.26.1)\n",
      "Requirement already satisfied: typing-inspect<1,>=0.4.0 in /usr/local/lib/python3.10/dist-packages (from dataclasses-json<0.7,>=0.5.7->langchain-community) (0.9.0)\n",
      "Collecting langchain-text-splitters<1.0.0,>=0.3.8 (from langchain<1.0.0,>=0.3.24->langchain-community)\n",
      "  Downloading langchain_text_splitters-0.3.8-py3-none-any.whl.metadata (1.9 kB)\n",
      "Requirement already satisfied: pydantic<3.0.0,>=2.7.4 in /usr/local/lib/python3.10/dist-packages (from langchain<1.0.0,>=0.3.24->langchain-community) (2.11.0a2)\n",
      "Collecting async-timeout<6.0,>=4.0 (from aiohttp<4.0.0,>=3.8.3->langchain-community)\n",
      "  Downloading async_timeout-4.0.3-py3-none-any.whl.metadata (4.2 kB)\n",
      "Requirement already satisfied: jsonpatch<2.0,>=1.33 in /usr/local/lib/python3.10/dist-packages (from langchain-core<1.0.0,>=0.3.56->langchain-community) (1.33)\n",
      "Requirement already satisfied: packaging<25,>=23.2 in /usr/local/lib/python3.10/dist-packages (from langchain-core<1.0.0,>=0.3.56->langchain-community) (24.2)\n",
      "Requirement already satisfied: typing-extensions>=4.7 in /usr/local/lib/python3.10/dist-packages (from langchain-core<1.0.0,>=0.3.56->langchain-community) (4.12.2)\n",
      "Requirement already satisfied: httpx<1,>=0.23.0 in /usr/local/lib/python3.10/dist-packages (from langsmith<0.4,>=0.1.125->langchain-community) (0.28.1)\n",
      "Requirement already satisfied: orjson<4.0.0,>=3.9.14 in /usr/local/lib/python3.10/dist-packages (from langsmith<0.4,>=0.1.125->langchain-community) (3.10.12)\n",
      "Requirement already satisfied: requests-toolbelt<2.0.0,>=1.0.0 in /usr/local/lib/python3.10/dist-packages (from langsmith<0.4,>=0.1.125->langchain-community) (1.0.0)\n",
      "Requirement already satisfied: mkl_fft in /usr/local/lib/python3.10/dist-packages (from numpy>=1.26.2->langchain-community) (1.3.8)\n",
      "Requirement already satisfied: mkl_random in /usr/local/lib/python3.10/dist-packages (from numpy>=1.26.2->langchain-community) (1.2.4)\n",
      "Requirement already satisfied: mkl_umath in /usr/local/lib/python3.10/dist-packages (from numpy>=1.26.2->langchain-community) (0.1.1)\n",
      "Requirement already satisfied: mkl in /usr/local/lib/python3.10/dist-packages (from numpy>=1.26.2->langchain-community) (2025.0.1)\n",
      "Requirement already satisfied: tbb4py in /usr/local/lib/python3.10/dist-packages (from numpy>=1.26.2->langchain-community) (2022.0.0)\n",
      "Requirement already satisfied: mkl-service in /usr/local/lib/python3.10/dist-packages (from numpy>=1.26.2->langchain-community) (2.4.1)\n",
      "Collecting python-dotenv>=0.21.0 (from pydantic-settings<3.0.0,>=2.4.0->langchain-community)\n",
      "  Downloading python_dotenv-1.1.0-py3-none-any.whl.metadata (24 kB)\n",
      "Collecting typing-inspection>=0.4.0 (from pydantic-settings<3.0.0,>=2.4.0->langchain-community)\n",
      "  Downloading typing_inspection-0.4.0-py3-none-any.whl.metadata (2.6 kB)\n",
      "Requirement already satisfied: charset-normalizer<4,>=2 in /usr/local/lib/python3.10/dist-packages (from requests<3,>=2->langchain-community) (3.4.1)\n",
      "Requirement already satisfied: idna<4,>=2.5 in /usr/local/lib/python3.10/dist-packages (from requests<3,>=2->langchain-community) (3.10)\n",
      "Requirement already satisfied: urllib3<3,>=1.21.1 in /usr/local/lib/python3.10/dist-packages (from requests<3,>=2->langchain-community) (2.3.0)\n",
      "Requirement already satisfied: certifi>=2017.4.17 in /usr/local/lib/python3.10/dist-packages (from requests<3,>=2->langchain-community) (2025.1.31)\n",
      "Requirement already satisfied: greenlet!=0.4.17 in /usr/local/lib/python3.10/dist-packages (from SQLAlchemy<3,>=1.4->langchain-community) (3.1.1)\n",
      "Requirement already satisfied: anyio in /usr/local/lib/python3.10/dist-packages (from httpx<1,>=0.23.0->langsmith<0.4,>=0.1.125->langchain-community) (3.7.1)\n",
      "Requirement already satisfied: httpcore==1.* in /usr/local/lib/python3.10/dist-packages (from httpx<1,>=0.23.0->langsmith<0.4,>=0.1.125->langchain-community) (1.0.7)\n",
      "Requirement already satisfied: h11<0.15,>=0.13 in /usr/local/lib/python3.10/dist-packages (from httpcore==1.*->httpx<1,>=0.23.0->langsmith<0.4,>=0.1.125->langchain-community) (0.14.0)\n",
      "Requirement already satisfied: jsonpointer>=1.9 in /usr/local/lib/python3.10/dist-packages (from jsonpatch<2.0,>=1.33->langchain-core<1.0.0,>=0.3.56->langchain-community) (3.0.0)\n",
      "Requirement already satisfied: annotated-types>=0.6.0 in /usr/local/lib/python3.10/dist-packages (from pydantic<3.0.0,>=2.7.4->langchain<1.0.0,>=0.3.24->langchain-community) (0.7.0)\n",
      "Requirement already satisfied: pydantic-core==2.29.0 in /usr/local/lib/python3.10/dist-packages (from pydantic<3.0.0,>=2.7.4->langchain<1.0.0,>=0.3.24->langchain-community) (2.29.0)\n",
      "Requirement already satisfied: mypy-extensions>=0.3.0 in /usr/local/lib/python3.10/dist-packages (from typing-inspect<1,>=0.4.0->dataclasses-json<0.7,>=0.5.7->langchain-community) (1.0.0)\n",
      "Requirement already satisfied: intel-openmp>=2024 in /usr/local/lib/python3.10/dist-packages (from mkl->numpy>=1.26.2->langchain-community) (2024.2.0)\n",
      "Requirement already satisfied: tbb==2022.* in /usr/local/lib/python3.10/dist-packages (from mkl->numpy>=1.26.2->langchain-community) (2022.0.0)\n",
      "Requirement already satisfied: tcmlib==1.* in /usr/local/lib/python3.10/dist-packages (from tbb==2022.*->mkl->numpy>=1.26.2->langchain-community) (1.2.0)\n",
      "Requirement already satisfied: intel-cmplr-lib-rt in /usr/local/lib/python3.10/dist-packages (from mkl_umath->numpy>=1.26.2->langchain-community) (2024.2.0)\n",
      "Requirement already satisfied: intel-cmplr-lib-ur==2024.2.0 in /usr/local/lib/python3.10/dist-packages (from intel-openmp>=2024->mkl->numpy>=1.26.2->langchain-community) (2024.2.0)\n",
      "Requirement already satisfied: sniffio>=1.1 in /usr/local/lib/python3.10/dist-packages (from anyio->httpx<1,>=0.23.0->langsmith<0.4,>=0.1.125->langchain-community) (1.3.1)\n",
      "Requirement already satisfied: exceptiongroup in /usr/local/lib/python3.10/dist-packages (from anyio->httpx<1,>=0.23.0->langsmith<0.4,>=0.1.125->langchain-community) (1.2.2)\n",
      "Downloading langchain_community-0.3.23-py3-none-any.whl (2.5 MB)\n",
      "\u001b[2K   \u001b[90m━━━━━━━━━━━━━━━━━━━━━━━━━━━━━━━━━━━━━━━━\u001b[0m \u001b[32m2.5/2.5 MB\u001b[0m \u001b[31m31.8 MB/s\u001b[0m eta \u001b[36m0:00:00\u001b[0m00:01\u001b[0m00:01\u001b[0m\n",
      "\u001b[?25hDownloading httpx_sse-0.4.0-py3-none-any.whl (7.8 kB)\n",
      "Downloading langchain-0.3.25-py3-none-any.whl (1.0 MB)\n",
      "\u001b[2K   \u001b[90m━━━━━━━━━━━━━━━━━━━━━━━━━━━━━━━━━━━━━━━━\u001b[0m \u001b[32m1.0/1.0 MB\u001b[0m \u001b[31m42.1 MB/s\u001b[0m eta \u001b[36m0:00:00\u001b[0m\n",
      "\u001b[?25hDownloading langchain_core-0.3.58-py3-none-any.whl (437 kB)\n",
      "\u001b[2K   \u001b[90m━━━━━━━━━━━━━━━━━━━━━━━━━━━━━━━━━━━━━━━━\u001b[0m \u001b[32m437.6/437.6 kB\u001b[0m \u001b[31m19.9 MB/s\u001b[0m eta \u001b[36m0:00:00\u001b[0m\n",
      "\u001b[?25hDownloading pydantic_settings-2.9.1-py3-none-any.whl (44 kB)\n",
      "\u001b[2K   \u001b[90m━━━━━━━━━━━━━━━━━━━━━━━━━━━━━━━━━━━━━━━━\u001b[0m \u001b[32m44.4/44.4 kB\u001b[0m \u001b[31m2.6 MB/s\u001b[0m eta \u001b[36m0:00:00\u001b[0m\n",
      "\u001b[?25hDownloading async_timeout-4.0.3-py3-none-any.whl (5.7 kB)\n",
      "Downloading langchain_text_splitters-0.3.8-py3-none-any.whl (32 kB)\n",
      "Downloading python_dotenv-1.1.0-py3-none-any.whl (20 kB)\n",
      "Downloading typing_inspection-0.4.0-py3-none-any.whl (14 kB)\n",
      "Installing collected packages: typing-inspection, python-dotenv, httpx-sse, async-timeout, pydantic-settings, langchain-core, langchain-text-splitters, langchain, langchain-community\n",
      "  Attempting uninstall: async-timeout\n",
      "    Found existing installation: async-timeout 5.0.1\n",
      "    Uninstalling async-timeout-5.0.1:\n",
      "      Successfully uninstalled async-timeout-5.0.1\n",
      "  Attempting uninstall: langchain-core\n",
      "    Found existing installation: langchain-core 0.3.25\n",
      "    Uninstalling langchain-core-0.3.25:\n",
      "      Successfully uninstalled langchain-core-0.3.25\n",
      "  Attempting uninstall: langchain-text-splitters\n",
      "    Found existing installation: langchain-text-splitters 0.3.3\n",
      "    Uninstalling langchain-text-splitters-0.3.3:\n",
      "      Successfully uninstalled langchain-text-splitters-0.3.3\n",
      "  Attempting uninstall: langchain\n",
      "    Found existing installation: langchain 0.3.12\n",
      "    Uninstalling langchain-0.3.12:\n",
      "      Successfully uninstalled langchain-0.3.12\n",
      "\u001b[31mERROR: pip's dependency resolver does not currently take into account all the packages that are installed. This behaviour is the source of the following dependency conflicts.\n",
      "gcsfs 2024.10.0 requires fsspec==2024.10.0, but you have fsspec 2024.12.0 which is incompatible.\u001b[0m\u001b[31m\n",
      "\u001b[0mSuccessfully installed async-timeout-4.0.3 httpx-sse-0.4.0 langchain-0.3.25 langchain-community-0.3.23 langchain-core-0.3.58 langchain-text-splitters-0.3.8 pydantic-settings-2.9.1 python-dotenv-1.1.0 typing-inspection-0.4.0\n",
      "Note: you may need to restart the kernel to use updated packages.\n"
     ]
    }
   ],
   "source": [
    "pip install -U langchain-community"
   ]
  },
  {
   "cell_type": "code",
   "execution_count": 5,
   "metadata": {
    "execution": {
     "iopub.execute_input": "2025-05-03T16:12:52.499193Z",
     "iopub.status.busy": "2025-05-03T16:12:52.498876Z",
     "iopub.status.idle": "2025-05-03T16:12:56.638332Z",
     "shell.execute_reply": "2025-05-03T16:12:56.637302Z",
     "shell.execute_reply.started": "2025-05-03T16:12:52.499165Z"
    },
    "trusted": true
   },
   "outputs": [
    {
     "name": "stdout",
     "output_type": "stream",
     "text": [
      "\u001b[2K   \u001b[90m━━━━━━━━━━━━━━━━━━━━━━━━━━━━━━━━━━━━━━━━\u001b[0m \u001b[32m327.7/327.7 kB\u001b[0m \u001b[31m6.4 MB/s\u001b[0m eta \u001b[36m0:00:00\u001b[0m:00:01\u001b[0m\n",
      "\u001b[?25hNote: you may need to restart the kernel to use updated packages.\n"
     ]
    }
   ],
   "source": [
    "pip install langchain qdrant-client -q"
   ]
  },
  {
   "cell_type": "code",
   "execution_count": 6,
   "metadata": {
    "execution": {
     "iopub.execute_input": "2025-05-03T16:12:56.640096Z",
     "iopub.status.busy": "2025-05-03T16:12:56.639754Z",
     "iopub.status.idle": "2025-05-03T16:13:00.089114Z",
     "shell.execute_reply": "2025-05-03T16:13:00.088108Z",
     "shell.execute_reply.started": "2025-05-03T16:12:56.640070Z"
    },
    "trusted": true
   },
   "outputs": [
    {
     "name": "stdout",
     "output_type": "stream",
     "text": [
      "Requirement already satisfied: transformers in /usr/local/lib/python3.10/dist-packages (4.47.0)\n",
      "Requirement already satisfied: accelerate in /usr/local/lib/python3.10/dist-packages (1.2.1)\n",
      "Requirement already satisfied: filelock in /usr/local/lib/python3.10/dist-packages (from transformers) (3.17.0)\n",
      "Requirement already satisfied: huggingface-hub<1.0,>=0.24.0 in /usr/local/lib/python3.10/dist-packages (from transformers) (0.29.0)\n",
      "Requirement already satisfied: numpy>=1.17 in /usr/local/lib/python3.10/dist-packages (from transformers) (1.26.4)\n",
      "Requirement already satisfied: packaging>=20.0 in /usr/local/lib/python3.10/dist-packages (from transformers) (24.2)\n",
      "Requirement already satisfied: pyyaml>=5.1 in /usr/local/lib/python3.10/dist-packages (from transformers) (6.0.2)\n",
      "Requirement already satisfied: regex!=2019.12.17 in /usr/local/lib/python3.10/dist-packages (from transformers) (2024.11.6)\n",
      "Requirement already satisfied: requests in /usr/local/lib/python3.10/dist-packages (from transformers) (2.32.3)\n",
      "Requirement already satisfied: tokenizers<0.22,>=0.21 in /usr/local/lib/python3.10/dist-packages (from transformers) (0.21.0)\n",
      "Requirement already satisfied: safetensors>=0.4.1 in /usr/local/lib/python3.10/dist-packages (from transformers) (0.4.5)\n",
      "Requirement already satisfied: tqdm>=4.27 in /usr/local/lib/python3.10/dist-packages (from transformers) (4.67.1)\n",
      "Requirement already satisfied: psutil in /usr/local/lib/python3.10/dist-packages (from accelerate) (5.9.5)\n",
      "Requirement already satisfied: torch>=1.10.0 in /usr/local/lib/python3.10/dist-packages (from accelerate) (2.5.1+cu121)\n",
      "Requirement already satisfied: fsspec>=2023.5.0 in /usr/local/lib/python3.10/dist-packages (from huggingface-hub<1.0,>=0.24.0->transformers) (2024.12.0)\n",
      "Requirement already satisfied: typing-extensions>=3.7.4.3 in /usr/local/lib/python3.10/dist-packages (from huggingface-hub<1.0,>=0.24.0->transformers) (4.12.2)\n",
      "Requirement already satisfied: mkl_fft in /usr/local/lib/python3.10/dist-packages (from numpy>=1.17->transformers) (1.3.8)\n",
      "Requirement already satisfied: mkl_random in /usr/local/lib/python3.10/dist-packages (from numpy>=1.17->transformers) (1.2.4)\n",
      "Requirement already satisfied: mkl_umath in /usr/local/lib/python3.10/dist-packages (from numpy>=1.17->transformers) (0.1.1)\n",
      "Requirement already satisfied: mkl in /usr/local/lib/python3.10/dist-packages (from numpy>=1.17->transformers) (2025.0.1)\n",
      "Requirement already satisfied: tbb4py in /usr/local/lib/python3.10/dist-packages (from numpy>=1.17->transformers) (2022.0.0)\n",
      "Requirement already satisfied: mkl-service in /usr/local/lib/python3.10/dist-packages (from numpy>=1.17->transformers) (2.4.1)\n",
      "Requirement already satisfied: networkx in /usr/local/lib/python3.10/dist-packages (from torch>=1.10.0->accelerate) (3.4.2)\n",
      "Requirement already satisfied: jinja2 in /usr/local/lib/python3.10/dist-packages (from torch>=1.10.0->accelerate) (3.1.4)\n",
      "Requirement already satisfied: sympy==1.13.1 in /usr/local/lib/python3.10/dist-packages (from torch>=1.10.0->accelerate) (1.13.1)\n",
      "Requirement already satisfied: mpmath<1.4,>=1.1.0 in /usr/local/lib/python3.10/dist-packages (from sympy==1.13.1->torch>=1.10.0->accelerate) (1.3.0)\n",
      "Requirement already satisfied: charset-normalizer<4,>=2 in /usr/local/lib/python3.10/dist-packages (from requests->transformers) (3.4.1)\n",
      "Requirement already satisfied: idna<4,>=2.5 in /usr/local/lib/python3.10/dist-packages (from requests->transformers) (3.10)\n",
      "Requirement already satisfied: urllib3<3,>=1.21.1 in /usr/local/lib/python3.10/dist-packages (from requests->transformers) (2.3.0)\n",
      "Requirement already satisfied: certifi>=2017.4.17 in /usr/local/lib/python3.10/dist-packages (from requests->transformers) (2025.1.31)\n",
      "Requirement already satisfied: MarkupSafe>=2.0 in /usr/local/lib/python3.10/dist-packages (from jinja2->torch>=1.10.0->accelerate) (3.0.2)\n",
      "Requirement already satisfied: intel-openmp>=2024 in /usr/local/lib/python3.10/dist-packages (from mkl->numpy>=1.17->transformers) (2024.2.0)\n",
      "Requirement already satisfied: tbb==2022.* in /usr/local/lib/python3.10/dist-packages (from mkl->numpy>=1.17->transformers) (2022.0.0)\n",
      "Requirement already satisfied: tcmlib==1.* in /usr/local/lib/python3.10/dist-packages (from tbb==2022.*->mkl->numpy>=1.17->transformers) (1.2.0)\n",
      "Requirement already satisfied: intel-cmplr-lib-rt in /usr/local/lib/python3.10/dist-packages (from mkl_umath->numpy>=1.17->transformers) (2024.2.0)\n",
      "Requirement already satisfied: intel-cmplr-lib-ur==2024.2.0 in /usr/local/lib/python3.10/dist-packages (from intel-openmp>=2024->mkl->numpy>=1.17->transformers) (2024.2.0)\n",
      "Note: you may need to restart the kernel to use updated packages.\n"
     ]
    }
   ],
   "source": [
    "pip install transformers accelerate"
   ]
  },
  {
   "cell_type": "code",
   "execution_count": 32,
   "metadata": {
    "execution": {
     "iopub.execute_input": "2025-05-03T16:11:41.187025Z",
     "iopub.status.busy": "2025-05-03T16:11:41.186665Z",
     "iopub.status.idle": "2025-05-03T16:11:41.190592Z",
     "shell.execute_reply": "2025-05-03T16:11:41.189900Z",
     "shell.execute_reply.started": "2025-05-03T16:11:41.186996Z"
    },
    "trusted": true
   },
   "outputs": [],
   "source": [
    "# # !rm -rf /kaggle/working/*\n",
    "# import torch\n",
    "# torch.cuda.empty_cache()"
   ]
  },
  {
   "cell_type": "code",
   "execution_count": null,
   "metadata": {
    "execution": {
     "iopub.execute_input": "2025-05-03T16:13:00.090442Z",
     "iopub.status.busy": "2025-05-03T16:13:00.090133Z",
     "iopub.status.idle": "2025-05-03T16:13:45.280828Z",
     "shell.execute_reply": "2025-05-03T16:13:45.279593Z",
     "shell.execute_reply.started": "2025-05-03T16:13:00.090416Z"
    },
    "trusted": true
   },
   "outputs": [
    {
     "name": "stderr",
     "output_type": "stream",
     "text": [
      "<ipython-input-7-8c74c25d2789>:5: LangChainDeprecationWarning: The class `HuggingFaceEmbeddings` was deprecated in LangChain 0.2.2 and will be removed in 1.0. An updated version of the class exists in the :class:`~langchain-huggingface package and should be used instead. To use it run `pip install -U :class:`~langchain-huggingface` and import as `from :class:`~langchain_huggingface import HuggingFaceEmbeddings``.\n",
      "  embedding_function = HuggingFaceEmbeddings(model_name=\"BAAI/bge-m3\")\n"
     ]
    },
    {
     "data": {
      "application/vnd.jupyter.widget-view+json": {
       "model_id": "92473a399e324b9dbd54a36622442d82",
       "version_major": 2,
       "version_minor": 0
      },
      "text/plain": [
       "modules.json:   0%|          | 0.00/349 [00:00<?, ?B/s]"
      ]
     },
     "metadata": {},
     "output_type": "display_data"
    },
    {
     "data": {
      "application/vnd.jupyter.widget-view+json": {
       "model_id": "e315e769cc504cb3a0591bab1c0cda0a",
       "version_major": 2,
       "version_minor": 0
      },
      "text/plain": [
       "config_sentence_transformers.json:   0%|          | 0.00/123 [00:00<?, ?B/s]"
      ]
     },
     "metadata": {},
     "output_type": "display_data"
    },
    {
     "data": {
      "application/vnd.jupyter.widget-view+json": {
       "model_id": "7e2c6d6a57aa4954bfeff0e44dce23ca",
       "version_major": 2,
       "version_minor": 0
      },
      "text/plain": [
       "README.md:   0%|          | 0.00/15.8k [00:00<?, ?B/s]"
      ]
     },
     "metadata": {},
     "output_type": "display_data"
    },
    {
     "data": {
      "application/vnd.jupyter.widget-view+json": {
       "model_id": "7b1c3d8400664882905c42437f6d9256",
       "version_major": 2,
       "version_minor": 0
      },
      "text/plain": [
       "sentence_bert_config.json:   0%|          | 0.00/54.0 [00:00<?, ?B/s]"
      ]
     },
     "metadata": {},
     "output_type": "display_data"
    },
    {
     "data": {
      "application/vnd.jupyter.widget-view+json": {
       "model_id": "bad3ea67e71f46fe853c38df116bf886",
       "version_major": 2,
       "version_minor": 0
      },
      "text/plain": [
       "config.json:   0%|          | 0.00/687 [00:00<?, ?B/s]"
      ]
     },
     "metadata": {},
     "output_type": "display_data"
    },
    {
     "data": {
      "application/vnd.jupyter.widget-view+json": {
       "model_id": "4e64ebbaceae4848bf8bf9b70a795920",
       "version_major": 2,
       "version_minor": 0
      },
      "text/plain": [
       "pytorch_model.bin:   0%|          | 0.00/2.27G [00:00<?, ?B/s]"
      ]
     },
     "metadata": {},
     "output_type": "display_data"
    },
    {
     "data": {
      "application/vnd.jupyter.widget-view+json": {
       "model_id": "f78d04effa5d40869f18787d352cfbb3",
       "version_major": 2,
       "version_minor": 0
      },
      "text/plain": [
       "tokenizer_config.json:   0%|          | 0.00/444 [00:00<?, ?B/s]"
      ]
     },
     "metadata": {},
     "output_type": "display_data"
    },
    {
     "data": {
      "application/vnd.jupyter.widget-view+json": {
       "model_id": "6a6d1b79c3e743208b3189eb4588ef19",
       "version_major": 2,
       "version_minor": 0
      },
      "text/plain": [
       "sentencepiece.bpe.model:   0%|          | 0.00/5.07M [00:00<?, ?B/s]"
      ]
     },
     "metadata": {},
     "output_type": "display_data"
    },
    {
     "data": {
      "application/vnd.jupyter.widget-view+json": {
       "model_id": "eb2dc9c081a340e182d6c2c336a85218",
       "version_major": 2,
       "version_minor": 0
      },
      "text/plain": [
       "tokenizer.json:   0%|          | 0.00/17.1M [00:00<?, ?B/s]"
      ]
     },
     "metadata": {},
     "output_type": "display_data"
    },
    {
     "name": "stderr",
     "output_type": "stream",
     "text": [
      "Error during conversion: ChunkedEncodingError(ProtocolError('Response ended prematurely'))\n"
     ]
    },
    {
     "data": {
      "application/vnd.jupyter.widget-view+json": {
       "model_id": "11a2dc8f9c18445ca44381b67509bca6",
       "version_major": 2,
       "version_minor": 0
      },
      "text/plain": [
       "special_tokens_map.json:   0%|          | 0.00/964 [00:00<?, ?B/s]"
      ]
     },
     "metadata": {},
     "output_type": "display_data"
    },
    {
     "data": {
      "application/vnd.jupyter.widget-view+json": {
       "model_id": "dc933e9c8a304272bad5bc8358652c14",
       "version_major": 2,
       "version_minor": 0
      },
      "text/plain": [
       "model.safetensors:   0%|          | 0.00/2.27G [00:00<?, ?B/s]"
      ]
     },
     "metadata": {},
     "output_type": "display_data"
    },
    {
     "data": {
      "application/vnd.jupyter.widget-view+json": {
       "model_id": "a256352ae79b42cc871d8922964a20bb",
       "version_major": 2,
       "version_minor": 0
      },
      "text/plain": [
       "config.json:   0%|          | 0.00/191 [00:00<?, ?B/s]"
      ]
     },
     "metadata": {},
     "output_type": "display_data"
    }
   ],
   "source": [
    "QDRANT_URL = 'https://bb3f8fb3-5dde-46d6-9961-758fa12ca505.europe-west3-0.gcp.cloud.qdrant.io'\n",
    "QDRANT_API_KEY = ''\n",
    "from langchain.embeddings import HuggingFaceEmbeddings\n",
    "\n",
    "embedding_function = HuggingFaceEmbeddings(model_name=\"BAAI/bge-m3\")"
   ]
  },
  {
   "cell_type": "markdown",
   "metadata": {},
   "source": [
    "### create db"
   ]
  },
  {
   "cell_type": "code",
   "execution_count": null,
   "metadata": {
    "execution": {
     "iopub.status.busy": "2025-05-03T15:58:10.193003Z",
     "iopub.status.idle": "2025-05-03T15:58:10.193318Z",
     "shell.execute_reply": "2025-05-03T15:58:10.193212Z"
    },
    "trusted": true
   },
   "outputs": [],
   "source": [
    "from langchain.schema import Document\n",
    "from langchain.vectorstores import Qdrant\n",
    "from qdrant_client import QdrantClient\n",
    "from qdrant_client.models import VectorParams, Distance\n",
    "\n",
    "QDRANT_URL = 'https://bb3f8fb3-5dde-46d6-9961-758fa12ca505.europe-west3-0.gcp.cloud.qdrant.io'\n",
    "QDRANT_API_KEY = ''\n",
    "\n",
    "documents = [\n",
    "    Document(\n",
    "        page_content=\"represent_text: \" + row[\"text\"],\n",
    "        metadata={\"cv_id\": row[\"cv_id\"], \"chunk_id\": row[\"chunk_id\"]}\n",
    "    )\n",
    "    for _, row in chunk_df.iterrows()\n",
    "]\n",
    "\n",
    "client = QdrantClient(\n",
    "    url=QDRANT_URL,\n",
    "    api_key=QDRANT_API_KEY,\n",
    ")\n",
    "\n",
    "client.recreate_collection(\n",
    "    collection_name=\"cv-nlp\",\n",
    "    vectors_config=VectorParams(size=1024, distance=Distance.COSINE),\n",
    ")\n",
    "\n",
    "qdrant = Qdrant.from_documents(\n",
    "    documents,\n",
    "    embedding=embedding_function,\n",
    "    url=QDRANT_URL,\n",
    "    prefer_grpc=False,\n",
    "    collection_name=\"cv-nlp\",\n",
    "    api_key=QDRANT_API_KEY,\n",
    ")\n",
    "\n",
    "print(\"Số vector đã lưu:\", client.count(collection_name=\"cv-nlp\").count)\n"
   ]
  },
  {
   "cell_type": "code",
   "execution_count": 8,
   "metadata": {
    "execution": {
     "iopub.execute_input": "2025-05-03T16:14:00.944471Z",
     "iopub.status.busy": "2025-05-03T16:14:00.944145Z",
     "iopub.status.idle": "2025-05-03T16:14:11.861576Z",
     "shell.execute_reply": "2025-05-03T16:14:11.860943Z",
     "shell.execute_reply.started": "2025-05-03T16:14:00.944438Z"
    },
    "trusted": true
   },
   "outputs": [
    {
     "data": {
      "application/vnd.jupyter.widget-view+json": {
       "model_id": "99f49af9d9664e20bf723cb8d2c50a5b",
       "version_major": 2,
       "version_minor": 0
      },
      "text/plain": [
       "tokenizer_config.json:   0%|          | 0.00/1.17k [00:00<?, ?B/s]"
      ]
     },
     "metadata": {},
     "output_type": "display_data"
    },
    {
     "data": {
      "application/vnd.jupyter.widget-view+json": {
       "model_id": "e0792ecd2d884407bdebff834d3442d3",
       "version_major": 2,
       "version_minor": 0
      },
      "text/plain": [
       "sentencepiece.bpe.model:   0%|          | 0.00/5.07M [00:00<?, ?B/s]"
      ]
     },
     "metadata": {},
     "output_type": "display_data"
    },
    {
     "data": {
      "application/vnd.jupyter.widget-view+json": {
       "model_id": "6a8322715776460a8b5021128680c570",
       "version_major": 2,
       "version_minor": 0
      },
      "text/plain": [
       "tokenizer.json:   0%|          | 0.00/17.1M [00:00<?, ?B/s]"
      ]
     },
     "metadata": {},
     "output_type": "display_data"
    },
    {
     "data": {
      "application/vnd.jupyter.widget-view+json": {
       "model_id": "136183de9e00400f89e5237bcc1fb5bb",
       "version_major": 2,
       "version_minor": 0
      },
      "text/plain": [
       "special_tokens_map.json:   0%|          | 0.00/964 [00:00<?, ?B/s]"
      ]
     },
     "metadata": {},
     "output_type": "display_data"
    },
    {
     "data": {
      "application/vnd.jupyter.widget-view+json": {
       "model_id": "abf99b8bd3e24c70a122e89fdcac81da",
       "version_major": 2,
       "version_minor": 0
      },
      "text/plain": [
       "config.json:   0%|          | 0.00/795 [00:00<?, ?B/s]"
      ]
     },
     "metadata": {},
     "output_type": "display_data"
    },
    {
     "data": {
      "application/vnd.jupyter.widget-view+json": {
       "model_id": "3f54a52452c641a4bc6d0dd6e37e8199",
       "version_major": 2,
       "version_minor": 0
      },
      "text/plain": [
       "model.safetensors:   0%|          | 0.00/2.27G [00:00<?, ?B/s]"
      ]
     },
     "metadata": {},
     "output_type": "display_data"
    }
   ],
   "source": [
    "from transformers import AutoTokenizer, AutoModelForSequenceClassification\n",
    "import torch\n",
    "\n",
    "tokenizer_rerank = AutoTokenizer.from_pretrained(\"BAAI/bge-reranker-v2-m3\")\n",
    "model_rerank = AutoModelForSequenceClassification.from_pretrained(\"BAAI/bge-reranker-v2-m3\")\n",
    "\n",
    "def rerank(query: str, docs, top_k=3):\n",
    "\n",
    "    query = query.strip()\n",
    "    pairs = [(query, doc.page_content.replace(\"represent_text: \", \"\")) for doc in docs]\n",
    "\n",
    "    inputs = tokenizer_rerank.batch_encode_plus(\n",
    "        pairs,\n",
    "        padding=True,\n",
    "        truncation=True,\n",
    "        return_tensors=\"pt\",\n",
    "        max_length=512,\n",
    "    )\n",
    "\n",
    "    with torch.no_grad():\n",
    "        scores = model_rerank(**inputs).logits.squeeze()\n",
    "\n",
    "    ranked = sorted(zip(docs, scores), key=lambda x: x[1], reverse=True)\n",
    "\n",
    "    return [doc for doc, score in ranked[:top_k]]\n"
   ]
  },
  {
   "cell_type": "code",
   "execution_count": 12,
   "metadata": {
    "execution": {
     "iopub.execute_input": "2025-05-03T16:20:29.478744Z",
     "iopub.status.busy": "2025-05-03T16:20:29.478425Z",
     "iopub.status.idle": "2025-05-03T16:20:45.875675Z",
     "shell.execute_reply": "2025-05-03T16:20:45.874567Z",
     "shell.execute_reply.started": "2025-05-03T16:20:29.478691Z"
    },
    "trusted": true
   },
   "outputs": [
    {
     "name": "stdout",
     "output_type": "stream",
     "text": [
      "Collecting bm25s[full]\n",
      "  Downloading bm25s-0.2.12-py3-none-any.whl.metadata (21 kB)\n",
      "Requirement already satisfied: scipy in /usr/local/lib/python3.10/dist-packages (from bm25s[full]) (1.13.1)\n",
      "Requirement already satisfied: numpy in /usr/local/lib/python3.10/dist-packages (from bm25s[full]) (1.26.4)\n",
      "Requirement already satisfied: orjson in /usr/local/lib/python3.10/dist-packages (from bm25s[full]) (3.10.12)\n",
      "Requirement already satisfied: tqdm in /usr/local/lib/python3.10/dist-packages (from bm25s[full]) (4.67.1)\n",
      "Collecting PyStemmer (from bm25s[full])\n",
      "  Downloading PyStemmer-2.2.0.3-cp310-cp310-manylinux_2_5_x86_64.manylinux1_x86_64.manylinux_2_17_x86_64.manylinux2014_x86_64.whl.metadata (3.2 kB)\n",
      "Requirement already satisfied: numba in /usr/local/lib/python3.10/dist-packages (from bm25s[full]) (0.60.0)\n",
      "Requirement already satisfied: huggingface-hub in /usr/local/lib/python3.10/dist-packages (from bm25s[full]) (0.29.0)\n",
      "Collecting black (from bm25s[full])\n",
      "  Downloading black-25.1.0-cp310-cp310-manylinux_2_17_x86_64.manylinux2014_x86_64.manylinux_2_28_x86_64.whl.metadata (81 kB)\n",
      "\u001b[2K     \u001b[90m━━━━━━━━━━━━━━━━━━━━━━━━━━━━━━━━━━━━━━━━\u001b[0m \u001b[32m81.3/81.3 kB\u001b[0m \u001b[31m3.3 MB/s\u001b[0m eta \u001b[36m0:00:00\u001b[0m\n",
      "\u001b[?25hRequirement already satisfied: jax[cpu] in /usr/local/lib/python3.10/dist-packages (from bm25s[full]) (0.4.33)\n",
      "Collecting pytrec-eval (from bm25s[full])\n",
      "  Downloading pytrec_eval-0.5.tar.gz (15 kB)\n",
      "  Preparing metadata (setup.py) ... \u001b[?25l\u001b[?25hdone\n",
      "Requirement already satisfied: click>=8.0.0 in /usr/local/lib/python3.10/dist-packages (from black->bm25s[full]) (8.1.7)\n",
      "Requirement already satisfied: mypy-extensions>=0.4.3 in /usr/local/lib/python3.10/dist-packages (from black->bm25s[full]) (1.0.0)\n",
      "Requirement already satisfied: packaging>=22.0 in /usr/local/lib/python3.10/dist-packages (from black->bm25s[full]) (24.2)\n",
      "Collecting pathspec>=0.9.0 (from black->bm25s[full])\n",
      "  Downloading pathspec-0.12.1-py3-none-any.whl.metadata (21 kB)\n",
      "Requirement already satisfied: platformdirs>=2 in /usr/local/lib/python3.10/dist-packages (from black->bm25s[full]) (4.3.6)\n",
      "Requirement already satisfied: tomli>=1.1.0 in /usr/local/lib/python3.10/dist-packages (from black->bm25s[full]) (2.2.1)\n",
      "Requirement already satisfied: typing-extensions>=4.0.1 in /usr/local/lib/python3.10/dist-packages (from black->bm25s[full]) (4.12.2)\n",
      "Requirement already satisfied: filelock in /usr/local/lib/python3.10/dist-packages (from huggingface-hub->bm25s[full]) (3.17.0)\n",
      "Requirement already satisfied: fsspec>=2023.5.0 in /usr/local/lib/python3.10/dist-packages (from huggingface-hub->bm25s[full]) (2024.12.0)\n",
      "Requirement already satisfied: pyyaml>=5.1 in /usr/local/lib/python3.10/dist-packages (from huggingface-hub->bm25s[full]) (6.0.2)\n",
      "Requirement already satisfied: requests in /usr/local/lib/python3.10/dist-packages (from huggingface-hub->bm25s[full]) (2.32.3)\n",
      "Requirement already satisfied: jaxlib<=0.4.33,>=0.4.33 in /usr/local/lib/python3.10/dist-packages (from jax[cpu]; extra == \"full\"->bm25s[full]) (0.4.33)\n",
      "Requirement already satisfied: ml-dtypes>=0.2.0 in /usr/local/lib/python3.10/dist-packages (from jax[cpu]; extra == \"full\"->bm25s[full]) (0.4.1)\n",
      "Requirement already satisfied: opt-einsum in /usr/local/lib/python3.10/dist-packages (from jax[cpu]; extra == \"full\"->bm25s[full]) (3.4.0)\n",
      "Requirement already satisfied: mkl_fft in /usr/local/lib/python3.10/dist-packages (from numpy->bm25s[full]) (1.3.8)\n",
      "Requirement already satisfied: mkl_random in /usr/local/lib/python3.10/dist-packages (from numpy->bm25s[full]) (1.2.4)\n",
      "Requirement already satisfied: mkl_umath in /usr/local/lib/python3.10/dist-packages (from numpy->bm25s[full]) (0.1.1)\n",
      "Requirement already satisfied: mkl in /usr/local/lib/python3.10/dist-packages (from numpy->bm25s[full]) (2025.0.1)\n",
      "Requirement already satisfied: tbb4py in /usr/local/lib/python3.10/dist-packages (from numpy->bm25s[full]) (2022.0.0)\n",
      "Requirement already satisfied: mkl-service in /usr/local/lib/python3.10/dist-packages (from numpy->bm25s[full]) (2.4.1)\n",
      "Requirement already satisfied: llvmlite<0.44,>=0.43.0dev0 in /usr/local/lib/python3.10/dist-packages (from numba->bm25s[full]) (0.43.0)\n",
      "Requirement already satisfied: intel-openmp>=2024 in /usr/local/lib/python3.10/dist-packages (from mkl->numpy->bm25s[full]) (2024.2.0)\n",
      "Requirement already satisfied: tbb==2022.* in /usr/local/lib/python3.10/dist-packages (from mkl->numpy->bm25s[full]) (2022.0.0)\n",
      "Requirement already satisfied: tcmlib==1.* in /usr/local/lib/python3.10/dist-packages (from tbb==2022.*->mkl->numpy->bm25s[full]) (1.2.0)\n",
      "Requirement already satisfied: intel-cmplr-lib-rt in /usr/local/lib/python3.10/dist-packages (from mkl_umath->numpy->bm25s[full]) (2024.2.0)\n",
      "Requirement already satisfied: charset-normalizer<4,>=2 in /usr/local/lib/python3.10/dist-packages (from requests->huggingface-hub->bm25s[full]) (3.4.1)\n",
      "Requirement already satisfied: idna<4,>=2.5 in /usr/local/lib/python3.10/dist-packages (from requests->huggingface-hub->bm25s[full]) (3.10)\n",
      "Requirement already satisfied: urllib3<3,>=1.21.1 in /usr/local/lib/python3.10/dist-packages (from requests->huggingface-hub->bm25s[full]) (2.3.0)\n",
      "Requirement already satisfied: certifi>=2017.4.17 in /usr/local/lib/python3.10/dist-packages (from requests->huggingface-hub->bm25s[full]) (2025.1.31)\n",
      "Requirement already satisfied: intel-cmplr-lib-ur==2024.2.0 in /usr/local/lib/python3.10/dist-packages (from intel-openmp>=2024->mkl->numpy->bm25s[full]) (2024.2.0)\n",
      "Downloading black-25.1.0-cp310-cp310-manylinux_2_17_x86_64.manylinux2014_x86_64.manylinux_2_28_x86_64.whl (1.8 MB)\n",
      "\u001b[2K   \u001b[90m━━━━━━━━━━━━━━━━━━━━━━━━━━━━━━━━━━━━━━━━\u001b[0m \u001b[32m1.8/1.8 MB\u001b[0m \u001b[31m32.6 MB/s\u001b[0m eta \u001b[36m0:00:00\u001b[0ma \u001b[36m0:00:01\u001b[0m\n",
      "\u001b[?25hDownloading bm25s-0.2.12-py3-none-any.whl (54 kB)\n",
      "\u001b[2K   \u001b[90m━━━━━━━━━━━━━━━━━━━━━━━━━━━━━━━━━━━━━━━━\u001b[0m \u001b[32m54.5/54.5 kB\u001b[0m \u001b[31m3.4 MB/s\u001b[0m eta \u001b[36m0:00:00\u001b[0m\n",
      "\u001b[?25hDownloading PyStemmer-2.2.0.3-cp310-cp310-manylinux_2_5_x86_64.manylinux1_x86_64.manylinux_2_17_x86_64.manylinux2014_x86_64.whl (646 kB)\n",
      "\u001b[2K   \u001b[90m━━━━━━━━━━━━━━━━━━━━━━━━━━━━━━━━━━━━━━━━\u001b[0m \u001b[32m646.7/646.7 kB\u001b[0m \u001b[31m36.5 MB/s\u001b[0m eta \u001b[36m0:00:00\u001b[0m\n",
      "\u001b[?25hDownloading pathspec-0.12.1-py3-none-any.whl (31 kB)\n",
      "Building wheels for collected packages: pytrec-eval\n",
      "  Building wheel for pytrec-eval (setup.py) ... \u001b[?25l\u001b[?25hdone\n",
      "  Created wheel for pytrec-eval: filename=pytrec_eval-0.5-cp310-cp310-linux_x86_64.whl size=308216 sha256=4115b188a1e93eab69b97d597b2e251015903ea0c91f4edd67a70bc1720e1716\n",
      "  Stored in directory: /root/.cache/pip/wheels/51/3a/cd/dcc1ddfc763987d5cb237165d8ac249aa98a23ab90f67317a8\n",
      "Successfully built pytrec-eval\n",
      "Installing collected packages: PyStemmer, pytrec-eval, pathspec, black, bm25s\n",
      "Successfully installed PyStemmer-2.2.0.3 black-25.1.0 bm25s-0.2.12 pathspec-0.12.1 pytrec-eval-0.5\n"
     ]
    }
   ],
   "source": [
    "!pip install bm25s[full]"
   ]
  },
  {
   "cell_type": "code",
   "execution_count": 19,
   "metadata": {
    "execution": {
     "iopub.execute_input": "2025-05-03T16:25:12.552619Z",
     "iopub.status.busy": "2025-05-03T16:25:12.552322Z",
     "iopub.status.idle": "2025-05-03T16:25:14.128048Z",
     "shell.execute_reply": "2025-05-03T16:25:14.127370Z",
     "shell.execute_reply.started": "2025-05-03T16:25:12.552597Z"
    },
    "trusted": true
   },
   "outputs": [
    {
     "data": {
      "application/vnd.jupyter.widget-view+json": {
       "model_id": "",
       "version_major": 2,
       "version_minor": 0
      },
      "text/plain": [
       "Split strings:   0%|          | 0/17281 [00:00<?, ?it/s]"
      ]
     },
     "metadata": {},
     "output_type": "display_data"
    },
    {
     "data": {
      "application/vnd.jupyter.widget-view+json": {
       "model_id": "",
       "version_major": 2,
       "version_minor": 0
      },
      "text/plain": [
       "BM25S Count Tokens:   0%|          | 0/17281 [00:00<?, ?it/s]"
      ]
     },
     "metadata": {},
     "output_type": "display_data"
    },
    {
     "data": {
      "application/vnd.jupyter.widget-view+json": {
       "model_id": "",
       "version_major": 2,
       "version_minor": 0
      },
      "text/plain": [
       "BM25S Compute Scores:   0%|          | 0/17281 [00:00<?, ?it/s]"
      ]
     },
     "metadata": {},
     "output_type": "display_data"
    }
   ],
   "source": [
    "import bm25s\n",
    "\n",
    "documents = chunk_df['text'].tolist()\n",
    "indexed_documents = list(enumerate(documents))  # List of (index, text)\n",
    "corpus_only = [text for _, text in indexed_documents]\n",
    "tokenized_corpus = bm25s.tokenize(corpus_only)\n",
    "bm25_retriever = bm25s.BM25(corpus=corpus_only)\n",
    "bm25_retriever.index(tokenized_corpus)"
   ]
  },
  {
   "cell_type": "code",
   "execution_count": 14,
   "metadata": {
    "execution": {
     "iopub.execute_input": "2025-05-03T16:20:50.796350Z",
     "iopub.status.busy": "2025-05-03T16:20:50.796080Z",
     "iopub.status.idle": "2025-05-03T16:20:50.801342Z",
     "shell.execute_reply": "2025-05-03T16:20:50.800520Z",
     "shell.execute_reply.started": "2025-05-03T16:20:50.796329Z"
    },
    "trusted": true
   },
   "outputs": [],
   "source": [
    "def rrf_fusion(bm25_results, embedding_results, k=10, rrf_k=60):\n",
    "    scores = {}\n",
    "    for rank, idx in enumerate(bm25_results):\n",
    "        scores[idx] = scores.get(idx, 0) + 1 / (rrf_k + rank + 1)\n",
    "    for rank, doc in enumerate(embedding_results):\n",
    "        idx = int(doc.metadata[\"index\"])\n",
    "        scores[idx] = scores.get(idx, 0) + 1 / (rrf_k + rank + 1)\n",
    "    \n",
    "    ranked = sorted(scores.items(), key=lambda x: x[1], reverse=True)\n",
    "    return [idx for idx, _ in ranked[:k]]\n"
   ]
  },
  {
   "cell_type": "code",
   "execution_count": 24,
   "metadata": {
    "execution": {
     "iopub.execute_input": "2025-05-03T16:27:08.675153Z",
     "iopub.status.busy": "2025-05-03T16:27:08.674849Z",
     "iopub.status.idle": "2025-05-03T16:27:08.683303Z",
     "shell.execute_reply": "2025-05-03T16:27:08.682241Z",
     "shell.execute_reply.started": "2025-05-03T16:27:08.675132Z"
    },
    "trusted": true
   },
   "outputs": [],
   "source": [
    "def search_cv_with_rrf_rerank(query: str, top_k=10, rerank_top_k=5):\n",
    "    from langchain.embeddings import HuggingFaceEmbeddings\n",
    "    from langchain.vectorstores import Qdrant\n",
    "    from qdrant_client import QdrantClient\n",
    "    from langchain.schema import Document\n",
    "    from collections import defaultdict\n",
    "\n",
    "    # Embedding-based retrieval\n",
    "    query_emb_input = \"represent_text: \" + query\n",
    "    client = QdrantClient(url=QDRANT_URL, api_key=QDRANT_API_KEY, prefer_grpc=False)\n",
    "    qdrant_store = Qdrant(client=client, collection_name='cv-nlp', embeddings=embedding_function)\n",
    "    emb_results = qdrant_store.similarity_search(query_emb_input, k=top_k)  # retrieve more for fusion\n",
    "\n",
    "    # Add index info to embedding results\n",
    "    for doc in emb_results:\n",
    "        doc.metadata[\"index\"] = chunk_df.index[\n",
    "            (chunk_df[\"cv_id\"] == doc.metadata[\"cv_id\"]) &\n",
    "            (chunk_df[\"chunk_id\"] == doc.metadata[\"chunk_id\"])\n",
    "        ].tolist()[0]\n",
    "\n",
    "    # BM25 retrieval\n",
    "    query_tokens = bm25s.tokenize([query])[0]\n",
    "    bm25_docs, _ = bm25_retriever.retrieve(query_tokens, k=top_k)\n",
    "    bm25_top_indices = [i for i, text in indexed_documents if text in bm25_docs]\n",
    "\n",
    "    # Fusion\n",
    "    fused_indices = rrf_fusion(bm25_top_indices, emb_results, k=top_k)\n",
    "\n",
    "    # Build Documents for reranking\n",
    "    fused_docs = []\n",
    "    for idx in fused_indices:\n",
    "        row = chunk_df.iloc[idx]\n",
    "        text = row['text']\n",
    "        meta = chunk_id_map[idx]\n",
    "        meta[\"index\"] = idx\n",
    "        fused_docs.append(Document(page_content=\"represent_text: \" + text, metadata=meta))\n",
    "\n",
    "    # Rerank\n",
    "    reranked = rerank(query, fused_docs, top_k=rerank_top_k)\n",
    "\n",
    "    # Group and merge\n",
    "    grouped = defaultdict(list)\n",
    "    for doc in reranked:\n",
    "        cv_id = doc.metadata.get(\"cv_id\")\n",
    "        chunk_id = doc.metadata.get(\"chunk_id\", -1)\n",
    "        grouped[cv_id].append((chunk_id, doc.page_content.replace(\"represent_text: \", \"\")))\n",
    "\n",
    "    merged_results = []\n",
    "    for cv_id, chunks in grouped.items():\n",
    "        chunks = sorted(chunks, key=lambda x: x[0])\n",
    "        full_text = \"\\n\".join(chunk for _, chunk in chunks)\n",
    "        print(f\"\\nCV ID: {cv_id}\")\n",
    "        print(full_text)\n"
   ]
  },
  {
   "cell_type": "code",
   "execution_count": 9,
   "metadata": {
    "execution": {
     "iopub.execute_input": "2025-05-03T16:14:16.210278Z",
     "iopub.status.busy": "2025-05-03T16:14:16.209952Z",
     "iopub.status.idle": "2025-05-03T16:14:16.216785Z",
     "shell.execute_reply": "2025-05-03T16:14:16.215948Z",
     "shell.execute_reply.started": "2025-05-03T16:14:16.210251Z"
    },
    "trusted": true
   },
   "outputs": [],
   "source": [
    "def search_cv_with_rerank_and_merge(query: str, top_k=5, rerank_top_k=3):\n",
    "    from langchain.embeddings import HuggingFaceEmbeddings\n",
    "    from langchain.vectorstores import Qdrant\n",
    "    from qdrant_client import QdrantClient\n",
    "    from collections import defaultdict\n",
    "\n",
    "    query_emb_input = \"represent_text: \" + query\n",
    "\n",
    "    client = QdrantClient(url=QDRANT_URL, api_key=QDRANT_API_KEY, prefer_grpc=False)\n",
    "    qdrant_store =  Qdrant(client=client, collection_name='cv-nlp', embeddings=embedding_function)\n",
    "\n",
    "    results = qdrant_store.similarity_search(query_emb_input, k=top_k)\n",
    "    if not results:\n",
    "        print(\"Không tìm thấy kết quả.\")\n",
    "        return []\n",
    "\n",
    "    reranked = rerank(query, results, top_k=rerank_top_k)\n",
    "\n",
    "    grouped = defaultdict(list)\n",
    "    for doc in reranked:\n",
    "        cv_id = doc.metadata.get(\"cv_id\")\n",
    "        chunk_id = doc.metadata.get(\"chunk_id\", -1)\n",
    "        grouped[cv_id].append((chunk_id, doc.page_content.replace(\"represent_text: \", \"\")))\n",
    "\n",
    "    merged_results = []\n",
    "    for cv_id, chunks in grouped.items():\n",
    "        chunks = sorted(chunks, key=lambda x: x[0])  \n",
    "        full_text = \"\\n\".join(chunk for _, chunk in chunks)\n",
    "        print(f\"\\nCV ID: {cv_id}\")\n",
    "        print(full_text)\n"
   ]
  },
  {
   "cell_type": "code",
   "execution_count": 25,
   "metadata": {
    "execution": {
     "iopub.execute_input": "2025-05-03T16:27:12.158226Z",
     "iopub.status.busy": "2025-05-03T16:27:12.157898Z",
     "iopub.status.idle": "2025-05-03T16:27:17.419130Z",
     "shell.execute_reply": "2025-05-03T16:27:17.418201Z",
     "shell.execute_reply.started": "2025-05-03T16:27:12.158200Z"
    },
    "trusted": true
   },
   "outputs": [
    {
     "name": "stdout",
     "output_type": "stream",
     "text": [
      "\n",
      "CV ID: 1000\n",
      "back end developer engineer skill java nodejs microservices sql cloud computing api development docker kubernetes james smith austin tx himalayasappjamessmith highly skilled staff backend engineer year experience designing implementing robust backend system hightraffic application proven track record enhancing system performance reliability innovative solution team leadership professional experience tech innovation inc austin tx staff backend engineer feb present architected implemented microservicesbased architecture improved system scalability optimized database query leading reduction response time api endpoint led team engineer adoption agile methodology resulting increase overall team productivity web solution ltd san francisco ca backend engineer may jan designed developed restful apis served million monthly active user implemented caching strategy decreased server load improved application speed collaborated frontend team optimize application performance resulting increase user \n",
      "\n",
      "CV ID: 2497\n",
      "computer language coder skill javascript react nodejs aws agile development restful apis yuki tanaka tokyo japan himalayasappyukitanaka dedicated software engineer year experience developing highperformance web application leveraging cloud solution proven track record delivering innovative software solution enhance user experience system efficiency professional experience sony corporation tokyo japan software engineer may present designed implemented scalable web application serving user optimized existing application leading reduction load time collaborated crossfunctional team deliver successful product launch rakuten tokyo japan junior software engineer apr apr assisted development ecommerce platform using react nodejs participated code review maintained high standard software quality improved application security measure reducing vulnerability education university tokyo tokyo japan b computer science focused software development data structure algorithm completed capstone project w\n",
      "\n",
      "CV ID: 625\n",
      "applications engineer skill javascript html cs nodejs agile methodology liam johnson sydney nsw himalayasappliamjohnson detailoriented junior application engineer year experience application development support proficient collaborating crossfunctional team deliver innovative software solution enhance user experience drive efficiency professional experience techwave sydney nsw junior application engineer jan present assisted development web application using javascript html cs improving user engagement performed software testing debugging reducing defect rate collaborated senior engineer implement new feature based user feedback increasing application usability innovatech solution melbourne vic software development intern jun dec supported development mobile application android device leading increase downloads helped maintain documentation software process user manual enhancing team communication participated daily standups sprint planning gaining insight agile methodology education un\n"
     ]
    }
   ],
   "source": [
    "search_cv_with_rerank_and_merge(\"We are seeking a highly skilled and motivated software engineer with experience in both front-end and back-end development. The ideal candidate will have extensive hands-on experience working with React for building dynamic and responsive user interfaces, as well as expertise in Node.js for developing scalable and high-performance back-end systems.\")"
   ]
  },
  {
   "cell_type": "code",
   "execution_count": 26,
   "metadata": {
    "execution": {
     "iopub.execute_input": "2025-05-03T16:27:17.421476Z",
     "iopub.status.busy": "2025-05-03T16:27:17.421214Z",
     "iopub.status.idle": "2025-05-03T16:27:27.422472Z",
     "shell.execute_reply": "2025-05-03T16:27:27.421513Z",
     "shell.execute_reply.started": "2025-05-03T16:27:17.421455Z"
    },
    "trusted": true
   },
   "outputs": [
    {
     "data": {
      "application/vnd.jupyter.widget-view+json": {
       "model_id": "",
       "version_major": 2,
       "version_minor": 0
      },
      "text/plain": [
       "Split strings:   0%|          | 0/1 [00:00<?, ?it/s]"
      ]
     },
     "metadata": {},
     "output_type": "display_data"
    },
    {
     "data": {
      "application/vnd.jupyter.widget-view+json": {
       "model_id": "",
       "version_major": 2,
       "version_minor": 0
      },
      "text/plain": [
       "BM25S Retrieve:   0%|          | 0/1 [00:00<?, ?it/s]"
      ]
     },
     "metadata": {},
     "output_type": "display_data"
    },
    {
     "name": "stdout",
     "output_type": "stream",
     "text": [
      "\n",
      "CV ID: 1000\n",
      "back end developer engineer skill java nodejs microservices sql cloud computing api development docker kubernetes james smith austin tx himalayasappjamessmith highly skilled staff backend engineer year experience designing implementing robust backend system hightraffic application proven track record enhancing system performance reliability innovative solution team leadership professional experience tech innovation inc austin tx staff backend engineer feb present architected implemented microservicesbased architecture improved system scalability optimized database query leading reduction response time api endpoint led team engineer adoption agile methodology resulting increase overall team productivity web solution ltd san francisco ca backend engineer may jan designed developed restful apis served million monthly active user implemented caching strategy decreased server load improved application speed collaborated frontend team optimize application performance resulting increase user \n",
      "\n",
      "CV ID: 2497\n",
      "computer language coder skill javascript react nodejs aws agile development restful apis yuki tanaka tokyo japan himalayasappyukitanaka dedicated software engineer year experience developing highperformance web application leveraging cloud solution proven track record delivering innovative software solution enhance user experience system efficiency professional experience sony corporation tokyo japan software engineer may present designed implemented scalable web application serving user optimized existing application leading reduction load time collaborated crossfunctional team deliver successful product launch rakuten tokyo japan junior software engineer apr apr assisted development ecommerce platform using react nodejs participated code review maintained high standard software quality improved application security measure reducing vulnerability education university tokyo tokyo japan b computer science focused software development data structure algorithm completed capstone project w\n",
      "\n",
      "CV ID: 2\n",
      "net developer skill c net framework aspnet sql server html javascript cs luca bianchi milan italy himalayasapplucabianchi motivated junior net developer year experience developing maintaining application using net technology proven ability work collaboratively team setting deliver highquality code time eager learn grow software development field professional experience infotech solution milan italy junior net developer feb present assisted development web application using aspnet mvc c collaborated senior developer enhance application performance resulting increase load speed participated code review contributed best practice software development tech innovation rome italy intern net developer jun dec supported development team building testing net application contributed documentation user guide software feature gained handson experience sql server entity framework education university milan milan italy bsc computer science completed coursework software engineering web development dat\n",
      "\n",
      "CV ID: 625\n",
      "applications engineer skill javascript html cs nodejs agile methodology liam johnson sydney nsw himalayasappliamjohnson detailoriented junior application engineer year experience application development support proficient collaborating crossfunctional team deliver innovative software solution enhance user experience drive efficiency professional experience techwave sydney nsw junior application engineer jan present assisted development web application using javascript html cs improving user engagement performed software testing debugging reducing defect rate collaborated senior engineer implement new feature based user feedback increasing application usability innovatech solution melbourne vic software development intern jun dec supported development mobile application android device leading increase downloads helped maintain documentation software process user manual enhancing team communication participated daily standups sprint planning gaining insight agile methodology education un\n",
      "\n",
      "CV ID: 1\n",
      "net developer skill c net framework aspnet core sql server restful apis git agile methodology lucas silva são paulo sp himalayasapplucassilva motivated net developer year experience building highquality web application service proficient full software development lifecycle proven track record delivering innovative solution enhance user experience drive business growth professional experience techsolutions são paulo sp net developer mar present developed maintained web application utilizing aspnet core resulting increased user engagement collaborated crossfunctional team design restful apis improved integration capability thirdparty service implemented automated testing process increasing code quality reducing bug innovatech rio de janeiro rj junior net developer jun feb assisted development internal application using c net framework contributing improvement operational efficiency participated code review contributed team knowledge sharing session managed resolved client issue enhancing\n"
     ]
    }
   ],
   "source": [
    "search_cv_with_rrf_rerank(\"We are seeking a highly skilled and motivated software engineer with experience in both front-end and back-end development. The ideal candidate will have extensive hands-on experience working with React for building dynamic and responsive user interfaces, as well as expertise in Node.js for developing scalable and high-performance back-end systems.\")"
   ]
  },
  {
   "cell_type": "code",
   "execution_count": null,
   "metadata": {
    "trusted": true
   },
   "outputs": [],
   "source": []
  }
 ],
 "metadata": {
  "kaggle": {
   "accelerator": "nvidiaTeslaT4",
   "dataSources": [
    {
     "datasetId": 6962483,
     "sourceId": 11158604,
     "sourceType": "datasetVersion"
    },
    {
     "datasetId": 6962983,
     "sourceId": 11159242,
     "sourceType": "datasetVersion"
    }
   ],
   "dockerImageVersionId": 30919,
   "isGpuEnabled": true,
   "isInternetEnabled": true,
   "language": "python",
   "sourceType": "notebook"
  },
  "kernelspec": {
   "display_name": "Python 3",
   "language": "python",
   "name": "python3"
  },
  "language_info": {
   "codemirror_mode": {
    "name": "ipython",
    "version": 3
   },
   "file_extension": ".py",
   "mimetype": "text/x-python",
   "name": "python",
   "nbconvert_exporter": "python",
   "pygments_lexer": "ipython3",
   "version": "3.10.12"
  }
 },
 "nbformat": 4,
 "nbformat_minor": 4
}
